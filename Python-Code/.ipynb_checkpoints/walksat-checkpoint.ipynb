{
 "cells": [
  {
   "cell_type": "markdown",
   "metadata": {},
   "source": [
    "### WalkSAT plus Data Analysis of Results, Daniel Espinosa 2024 UCSB ECE Strukov Group + FPGA copy\n"
   ]
  },
  {
   "cell_type": "code",
   "execution_count": 1,
   "metadata": {},
   "outputs": [],
   "source": [
    "import numpy as np\n",
    "import pandas as pd\n",
    "import matplotlib.pyplot as plt\n",
    "import matplotlib as mpl\n",
    "from matplotlib.ticker import MultipleLocator,FormatStrFormatter,MaxNLocator\n",
    "import xml.etree.ElementTree as Xet"
   ]
  },
  {
   "cell_type": "code",
   "execution_count": 2,
   "metadata": {},
   "outputs": [
    {
     "name": "stdout",
     "output_type": "stream",
     "text": [
      "No satisfying assignment found within the given limits. FAIL\n"
     ]
    }
   ],
   "source": [
    "import random\n",
    "\n",
    "def walkSAT(clauses, max_tries, max_flips, p):\n",
    "    def evaluate_clause(clause, assignment):\n",
    "        return any((var > 0 and assignment.get(abs(var), False)) or \n",
    "                   (var < 0 and not assignment.get(abs(var), False)) for var in clause)\n",
    "\n",
    "    def get_unsatisfied_clauses(clauses, assignment):\n",
    "        return [clause for clause in clauses if not evaluate_clause(clause, assignment)]\n",
    "\n",
    "    def get_variables(clauses):\n",
    "        return set(abs(var) for clause in clauses for var in clause)\n",
    "\n",
    "    def flip_variable(assignment, var):\n",
    "        assignment[var] = not assignment[var]\n",
    "\n",
    "    for _ in range(max_tries):\n",
    "        variables = list(get_variables(clauses))\n",
    "        assignment = {var: random.choice([True, False]) for var in variables}\n",
    "        \n",
    "        for _ in range(max_flips):\n",
    "            unsatisfied = get_unsatisfied_clauses(clauses, assignment)\n",
    "            if not unsatisfied:\n",
    "                return assignment  # Found a satisfying assignment\n",
    "            \n",
    "            clause = random.choice(unsatisfied)\n",
    "            if random.random() < p:\n",
    "                # Flip a random variable from the clause\n",
    "                var_to_flip = abs(random.choice(clause))\n",
    "            else:\n",
    "                # Flip a variable that minimizes the number of unsatisfied clauses if flipped\n",
    "                break_counts = []\n",
    "                for var in clause:\n",
    "                    assignment[abs(var)] = not assignment[abs(var)]\n",
    "                    break_counts.append((len(get_unsatisfied_clauses(clauses, assignment)), abs(var)))\n",
    "                    assignment[abs(var)] = not assignment[abs(var)]  # Undo the flip\n",
    "\n",
    "                min_break = min(break_counts, key=lambda x: x[0])\n",
    "                vars_with_min_break = [var for break_count, var in break_counts if break_count == min_break[0]]\n",
    "                var_to_flip = random.choice(vars_with_min_break)\n",
    "            \n",
    "            flip_variable(assignment, var_to_flip)\n",
    "\n",
    "    return \"FAIL\"\n",
    "\n",
    "# Example SAT CNF formula: (x1 or not x2) and (not x1 or x2)\n",
    "# clauses = [[1, -2],[-1,2]]\n",
    "# Example UNSAT CNF formula: \n",
    "clauses = [[1, 2],[-1,-2],[1,-2],[-1,2]]\n",
    "# Parameters\n",
    "max_tries = 100\n",
    "max_flips = 1000\n",
    "p = 0.3\n",
    "\n",
    "# Running WalkSAT\n",
    "result = walkSAT(clauses, max_tries, max_flips, p)\n",
    "print(\"Satisfying assignment found:\" if result != \"FAIL\" else \"No satisfying assignment found within the given limits.\", result)"
   ]
  },
  {
   "cell_type": "markdown",
   "metadata": {},
   "source": [
    "Now, structuring this based on the PDF using binary values for everything"
   ]
  },
  {
   "cell_type": "code",
   "execution_count": 3,
   "metadata": {},
   "outputs": [],
   "source": [
    "def parse_cnf_file(file_path):\n",
    "    num_vars = 0\n",
    "    num_clauses = 0\n",
    "    clauses = []\n",
    "\n",
    "    with open(file_path, 'r') as file:\n",
    "        for line in file:\n",
    "            # Strip leading and trailing whitespace\n",
    "            line = line.strip()\n",
    "\n",
    "            # Ignore comment lines\n",
    "            if line.startswith('c'):\n",
    "                continue\n",
    "            \n",
    "            # Process the problem line\n",
    "            elif line.startswith('p'):\n",
    "                parts = line.split()\n",
    "                if len(parts) == 4 and parts[1] == 'cnf':\n",
    "                    num_vars = int(parts[2])\n",
    "                    num_clauses = int(parts[3])\n",
    "            \n",
    "            # Process clause lines\n",
    "            else:\n",
    "                # Convert numbers to integers and remove the trailing 0\n",
    "                clause = [int(x) for x in line.split()[:-1]]\n",
    "                clauses.append(clause)\n",
    "    \n",
    "    return num_vars, num_clauses, clauses\n",
    "\n",
    "def random_assignment(cnf):\n",
    "    # cnf.variables is an iterable of variable identifiers\n",
    "    return {var: random.choice([1, 0]) for var in cnf.variables}"
   ]
  },
  {
   "cell_type": "code",
   "execution_count": 404,
   "metadata": {},
   "outputs": [],
   "source": [
    "parse_cnf_file('mnci_n16_t3_0_3sat.cnf')\n",
    "\n",
    "class CNF:\n",
    "    def __init__(self, num_vars:int, num_clauses:int, clauses:int):\n",
    "        self.num_vars = num_vars\n",
    "        self.num_clauses = num_clauses\n",
    "        self.clauses = clauses\n",
    "\n",
    "    def __str__(self,verbose=False):\n",
    "        description = f\"CNF Formula with {self.num_vars} variables and {self.num_clauses} clauses:\\n\"\n",
    "        if verbose: \n",
    "            for clause in self.clauses:\n",
    "                description += \" \".join(str(var) for var in clause) + \" 0\\n\"\n",
    "        return description\n",
    "\n",
    "    def variables(self) -> list:\n",
    "        return range(self.num_vars)\n",
    "    \n",
    "    def random_assignment(self) -> list:\n",
    "        return [random.choice([0, 1]) for var in CNF.variables(self)]\n",
    "    \n",
    "    def variable_membership(self, zero_indexing=False) -> dict:\n",
    "        # We are making this so we can quickly make a LUT to see where variables are\n",
    "        # To update only parts of the CNF and not handle the whole thing at once.\n",
    "        # Maps each variable to the clauses it appears in (by index)\n",
    "        \"\"\"\n",
    "        Usage: cnf.variable_membership.get(literal_integer) gives us all the clause\n",
    "        numbers that the literal is a part of. Once we have all the memberships\n",
    "        we can encode them to a single binary number later.\n",
    "        \"\"\"\n",
    "        offset = 1 if not zero_indexing else 0\n",
    "        membership = {var - offset: [] for var in self.variables()}\n",
    "        membership.update({-var - offset: [] for var in self.variables()})\n",
    "        \n",
    "        for clause_index, clause in enumerate(self.clauses):\n",
    "            for var in clause:\n",
    "                # var = abs(var)  # Uncomment to consider the variable, not its negation\n",
    "                if var in membership:\n",
    "                    membership[var].append(clause_index)\n",
    "        return membership\n",
    "\n",
    "    def add_clause(self, clause:list) -> list:\n",
    "        self.clauses.append(clause)\n",
    "        self.num_clauses += 1"
   ]
  },
  {
   "cell_type": "code",
   "execution_count": 405,
   "metadata": {},
   "outputs": [],
   "source": [
    "outputs = parse_cnf_file('mnci_n16_t3_0_3sat.cnf')\n",
    "cnf = CNF(outputs[0],outputs[1],outputs[2])"
   ]
  },
  {
   "cell_type": "code",
   "execution_count": 254,
   "metadata": {},
   "outputs": [
    {
     "data": {
      "text/plain": [
       "'CNF Formula with 232 variables and 619 clauses:\\n'"
      ]
     },
     "execution_count": 254,
     "metadata": {},
     "output_type": "execute_result"
    }
   ],
   "source": [
    "cnf.__str__(verbose=False)"
   ]
  },
  {
   "cell_type": "code",
   "execution_count": 407,
   "metadata": {},
   "outputs": [
    {
     "data": {
      "text/plain": [
       "[26, 27, 30, 31, 34, 35, 260, 263, 264]"
      ]
     },
     "execution_count": 407,
     "metadata": {},
     "output_type": "execute_result"
    }
   ],
   "source": [
    "cnf.variable_membership().get(-1)"
   ]
  },
  {
   "cell_type": "code",
   "execution_count": 260,
   "metadata": {},
   "outputs": [
    {
     "data": {
      "text/plain": [
       "[26, 27, 30, 31, 34, 35, 260, 263, 264]"
      ]
     },
     "execution_count": 260,
     "metadata": {},
     "output_type": "execute_result"
    }
   ],
   "source": [
    "cnf.variable_membership().get(-1)"
   ]
  },
  {
   "cell_type": "code",
   "execution_count": 262,
   "metadata": {},
   "outputs": [],
   "source": [
    "start = cnf.random_assignment() "
   ]
  },
  {
   "cell_type": "code",
   "execution_count": 263,
   "metadata": {},
   "outputs": [
    {
     "data": {
      "text/plain": [
       "[17, 13]"
      ]
     },
     "execution_count": 263,
     "metadata": {},
     "output_type": "execute_result"
    }
   ],
   "source": [
    "cnf.clauses[0]"
   ]
  },
  {
   "cell_type": "code",
   "execution_count": 264,
   "metadata": {},
   "outputs": [
    {
     "name": "stdout",
     "output_type": "stream",
     "text": [
      "True\n"
     ]
    },
    {
     "data": {
      "text/plain": [
       "[[25, 16],\n",
       " [-42, -15],\n",
       " [-57, -15],\n",
       " [-71, -13],\n",
       " [1, -5, 52],\n",
       " [-2, -5, -26],\n",
       " [-7, 9, 17],\n",
       " [-18, 12, 19],\n",
       " [19, 14, -20],\n",
       " [-26, -6, -27],\n",
       " [-31, 3, 32],\n",
       " [32, -4, 64],\n",
       " [32, -7, 33],\n",
       " [33, -8, 34],\n",
       " [34, 12, -35],\n",
       " [-37, -7, -38],\n",
       " [-43, -5, -44],\n",
       " [-44, -6, -45],\n",
       " [-45, 10, 46],\n",
       " [46, -15, 47],\n",
       " [48, 10, -49],\n",
       " [-49, 14, 50],\n",
       " [52, -6, 53],\n",
       " [53, 9, -54],\n",
       " [58, -6, 59],\n",
       " [61, 12, -62],\n",
       " [64, -5, 65],\n",
       " [65, -7, 66],\n",
       " [-72, -7, -73],\n",
       " [-73, 12, 74],\n",
       " [1, -77],\n",
       " [-77, 79, 80],\n",
       " [79, -81],\n",
       " [-81],\n",
       " [-78, -4, -82],\n",
       " [-78, -4, 83],\n",
       " [80, 83, -84],\n",
       " [-82, -5, -86],\n",
       " [-82, -5, 87],\n",
       " [85, 89, -90],\n",
       " [85, -91],\n",
       " [89, -91],\n",
       " [-91],\n",
       " [-86, -6, -92],\n",
       " [-86, -6, 93],\n",
       " [-90, 95, 96],\n",
       " [-92, -7, 99],\n",
       " [99, -101],\n",
       " [96, -101, 102],\n",
       " [-100, 105, 106],\n",
       " [105, -107],\n",
       " [102, -107, 108],\n",
       " [102, -109],\n",
       " [-104, 9, 110],\n",
       " [9, -111],\n",
       " [106, -113],\n",
       " [108, -113, 114],\n",
       " [108, -115],\n",
       " [-109, -115, -116],\n",
       " [-109, -115, 117],\n",
       " [110, 10, -118],\n",
       " [110, -119],\n",
       " [10, -119],\n",
       " [-112, -119, 121],\n",
       " [-118, 11, 126],\n",
       " [11, -127],\n",
       " [120, -129],\n",
       " [-124, 131, 132],\n",
       " [126, 12, -134],\n",
       " [135, -137],\n",
       " [132, -139, 140],\n",
       " [-136, -143, 145],\n",
       " [138, 145, -146],\n",
       " [142, -151],\n",
       " [14, -151],\n",
       " [150, -159],\n",
       " [-152, -159, 161],\n",
       " [-154, 161, 162],\n",
       " [156, 163, -164],\n",
       " [156, -165],\n",
       " [163, -165],\n",
       " [-165],\n",
       " [-158, 16, 166],\n",
       " [160, 167, -168],\n",
       " [-164, 171, 172],\n",
       " [166]]"
      ]
     },
     "execution_count": 264,
     "metadata": {},
     "output_type": "execute_result"
    }
   ],
   "source": [
    "membership_dictionary = cnf.variable_membership()\n",
    "#[x in range(10), cnf.clauses[membership_dictionary.get(1)[x]]]\n",
    "\n",
    "start = cnf.random_assignment() \n",
    "testclause = cnf.clauses[0]\n",
    "\n",
    "def evaluate_clause(clause, assignment):\n",
    "    return any((var > 0 and assignment[abs(var) - 1]) or \n",
    "               (var < 0 and not assignment[abs(var) - 1]) for var in clause)\n",
    "\n",
    "def get_unsatisfied_clauses(clauses, assignment):\n",
    "    # We are doing this to build the UNSAT buffer for the algorithm\n",
    "    return [clause for clause in clauses if not evaluate_clause(clause, assignment)]\n",
    "\n",
    "print(evaluate_clause(testclause, start))\n",
    "get_unsatisfied_clauses(cnf.clauses, start)"
   ]
  },
  {
   "cell_type": "code",
   "execution_count": 265,
   "metadata": {},
   "outputs": [
    {
     "name": "stdout",
     "output_type": "stream",
     "text": [
      "(3, 'b')\n"
     ]
    }
   ],
   "source": [
    "break_counts = [(5, 'a'), (3, 'b'), (4, 'c')]\n",
    "min_break_count = min(break_counts, key=lambda x: x[0])\n",
    "print(min_break_count)  # (3, 'b')"
   ]
  },
  {
   "cell_type": "code",
   "execution_count": 281,
   "metadata": {},
   "outputs": [
    {
     "data": {
      "text/plain": [
       "[[1, -5, 52], [1, 2, -76], [1, -77]]"
      ]
     },
     "execution_count": 281,
     "metadata": {},
     "output_type": "execute_result"
    }
   ],
   "source": [
    "membership = cnf.variable_membership()\n",
    "inputs = cnf.clauses\n",
    "assignment = cnf.random_assignment()\n",
    "\n",
    "def get_candidate_clauses(var, clauses, membership, assignment):\n",
    "    #efficient, only grabs the clauses that are numbered in the membership\n",
    "    candidate_clauses = [clauses[i] for i in membership[var]]\n",
    "    return [clause for clause in candidate_clauses if not evaluate_clause(clause, assignment)]\n",
    "\n",
    "get_candidate_clauses(1, inputs, membership, assignment)"
   ]
  },
  {
   "cell_type": "code",
   "execution_count": 409,
   "metadata": {},
   "outputs": [
    {
     "data": {
      "text/plain": [
       "[23, 25, 26, 51, 53, 54, 62, 64, 65]"
      ]
     },
     "execution_count": 409,
     "metadata": {},
     "output_type": "execute_result"
    }
   ],
   "source": [
    "raw = parse_cnf_file('4_queens.cnf')\n",
    "cnf = CNF(raw[0], raw[1],raw[2])\n",
    "membership = cnf.variable_membership()\n",
    "membership.get(-16)"
   ]
  },
  {
   "cell_type": "code",
   "execution_count": 413,
   "metadata": {},
   "outputs": [],
   "source": [
    "# Now, complete method which is an exact copy of what they are doing in the paper.\n",
    "\n",
    "def evaluate_clause(clause:list, assignment:list) -> bool:\n",
    "    # one big OR\n",
    "    return any((var > 0 and assignment[abs(var) - 1]) or \n",
    "               (var < 0 and not assignment[abs(var) - 1]) for var in clause)\n",
    "\n",
    "def flip_variable(assignment:list, var:int,zero_indexing=False) -> list:\n",
    "    #first element is 0\n",
    "    if not zero_indexing: assignment[var-1] = not assignment[var-1]\n",
    "    else: assignment[var] = not assignment[var]\n",
    "\n",
    "def get_unsatisfied_clauses(clauses:list, assignment:list) -> list:\n",
    "    #inefficient, parses the entire thing, use at least as possible\n",
    "    return [clause for clause in clauses if not evaluate_clause(clause, assignment)]\n",
    "\n",
    "def get_candidate_clauses(var:int, clauses:list, membership:dict, assignment:list) -> list:\n",
    "    #efficient, only grabs the clauses that are numbered in the membership\n",
    "    if membership.get(var): candidate_clauses = [clauses[i] for i in membership.get(var)]\n",
    "    else:\n",
    "        candidate_clauses = clauses\n",
    "    return [clause for clause in candidate_clauses if not evaluate_clause(clause, assignment)]\n",
    "    \n",
    "def binarywalkSAT(cnf: CNF, max_tries=200, max_flips=1000, p=0.3) -> list:\n",
    "    membership = cnf.variable_membership()\n",
    "    clauses = cnf.clauses\n",
    "    for _ in range(max_tries):\n",
    "        assignment = cnf.random_assignment()  #1 bit vector assignment\n",
    "        # unsat clause buffer\n",
    "        unsatisfied = get_unsatisfied_clauses(clauses, assignment) \n",
    "\n",
    "        for _ in range(max_flips):\n",
    "            if not unsatisfied:\n",
    "                return assignment  # If all unSat are Sat we are done\n",
    "            \n",
    "            clause = random.choice(unsatisfied)\n",
    "\n",
    "            if random.random() < p:\n",
    "                var_to_flip = abs(random.choice(clause))\n",
    "            else:\n",
    "                break_counts = []\n",
    "                for var in clause:\n",
    "                    # Temporary flip (3b in KM10):\n",
    "                    flip_variable(assignment, abs(var))\n",
    "                    break_counts.append((len(get_candidate_clauses(var, clauses, membership, assignment)), abs(var)))\n",
    "                    flip_variable(assignment, abs(var))  # Undo the flip\n",
    "                    min_break = min(break_counts, key=lambda x: x[0]) #from example above. \n",
    "                    var_to_flip = min_break[1]\n",
    "                flip_variable(assignment, var_to_flip)\n",
    "    \n",
    "    return \"FAIL\"\n"
   ]
  },
  {
   "cell_type": "code",
   "execution_count": 431,
   "metadata": {},
   "outputs": [
    {
     "data": {
      "text/plain": [
       "[0, 1]"
      ]
     },
     "execution_count": 431,
     "metadata": {},
     "output_type": "execute_result"
    }
   ],
   "source": [
    "raw = parse_cnf_file('4_queens.cnf')\n",
    "cnf = CNF(raw[0], raw[1],raw[2])\n",
    "cnf = CNF(2,2,[[1,2],[-1,2]])\n",
    "binarywalkSAT(cnf,max_tries=200, max_flips=1000, p=0.3)"
   ]
  },
  {
   "cell_type": "code",
   "execution_count": 429,
   "metadata": {},
   "outputs": [
    {
     "data": {
      "text/plain": [
       "{1: False, 2: True}"
      ]
     },
     "execution_count": 429,
     "metadata": {},
     "output_type": "execute_result"
    }
   ],
   "source": [
    "raw = parse_cnf_file('4_queens.cnf')\n",
    "cnf = CNF(raw[0], raw[1],raw[2])\n",
    "cnf = CNF(2,2,[[1,2],[-1,2]])\n",
    "walkSAT(cnf.clauses,max_tries=200, max_flips=1000, p=0.3)"
   ]
  },
  {
   "cell_type": "code",
   "execution_count": 400,
   "metadata": {},
   "outputs": [
    {
     "data": {
      "text/plain": [
       "{0: [],\n",
       " 1: [6, 34],\n",
       " 2: [6, 41],\n",
       " 3: [6, 48],\n",
       " 4: [6, 55],\n",
       " 5: [13, 34],\n",
       " 6: [13, 41],\n",
       " 7: [13, 48],\n",
       " 8: [13, 55],\n",
       " 9: [20, 34],\n",
       " 10: [20, 41],\n",
       " 11: [20, 48],\n",
       " 12: [20, 55],\n",
       " 13: [27, 34],\n",
       " 14: [27, 41],\n",
       " 15: [27, 48],\n",
       " -1: [0, 1, 2, 28, 29, 30, 60, 61, 62],\n",
       " -2: [0, 3, 4, 35, 36, 37, 57, 58, 70],\n",
       " -3: [1, 3, 5, 42, 43, 44, 56, 71, 72],\n",
       " -4: [2, 4, 5, 49, 50, 51, 74, 75, 76],\n",
       " -5: [7, 8, 9, 28, 31, 32, 66, 67, 70],\n",
       " -6: [7, 10, 11, 35, 38, 39, 60, 63, 64, 71, 73],\n",
       " -7: [8, 10, 12, 42, 45, 46, 57, 59, 74, 77, 78],\n",
       " -8: [9, 11, 12, 49, 52, 53, 56, 80, 81],\n",
       " -9: [14, 15, 16, 29, 31, 33, 69, 72, 73],\n",
       " -10: [14, 17, 18, 36, 38, 40, 66, 68, 75, 77, 79],\n",
       " -11: [15, 17, 19, 43, 45, 47, 61, 63, 65, 80, 82],\n",
       " -12: [16, 18, 19, 50, 52, 54, 58, 59, 83],\n",
       " -13: [21, 22, 23, 30, 32, 33, 76, 78, 79],\n",
       " -14: [21, 24, 25, 37, 39, 40, 69, 81, 82],\n",
       " -15: [22, 24, 26, 44, 46, 47, 67, 68, 83]}"
      ]
     },
     "execution_count": 400,
     "metadata": {},
     "output_type": "execute_result"
    }
   ],
   "source": [
    "cnf.variable_membership()"
   ]
  }
 ],
 "metadata": {
  "kernelspec": {
   "display_name": "snn",
   "language": "python",
   "name": "python3"
  },
  "language_info": {
   "codemirror_mode": {
    "name": "ipython",
    "version": 3
   },
   "file_extension": ".py",
   "mimetype": "text/x-python",
   "name": "python",
   "nbconvert_exporter": "python",
   "pygments_lexer": "ipython3",
   "version": "3.12.2"
  }
 },
 "nbformat": 4,
 "nbformat_minor": 2
}
